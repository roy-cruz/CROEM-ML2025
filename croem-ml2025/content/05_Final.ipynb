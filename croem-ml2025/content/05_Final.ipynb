{
 "cells": [
  {
   "cell_type": "markdown",
   "id": "c4549d5b",
   "metadata": {},
   "source": [
    "# What's Next?\n",
    "\n",
    "## HEP Project\n",
    "\n",
    "Now that we have covered the fundamentals of ML, you should be ready to tackle the project that is included as part of this material. To access it, you can click the following Google Colab button to open the corresponding notebook which includes the background and instructions.\n",
    "\n",
    "[![Open in Colab](https://colab.research.google.com/assets/colab-badge.svg)](https://colab.research.google.com/github/roy-cruz/CROEM-ML2025/blob/master/exercises/higgs_classification.ipynb)\n",
    "\n",
    "## Additional Resources\n",
    "\n",
    "- HSF Introduction to Machine Learning ([link](https://hsf-training.github.io/hsf-training-ml-webpage/index.html))\n",
    "- 3Blue1Brown ML video course ([link](https://youtu.be/aircAruvnKk?si=dKVG-NVJ3oJn1XxZ))\n"
   ]
  }
 ],
 "metadata": {
  "language_info": {
   "name": "python"
  }
 },
 "nbformat": 4,
 "nbformat_minor": 5
}
