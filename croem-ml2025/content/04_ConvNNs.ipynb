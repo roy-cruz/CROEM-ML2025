{
  "cells": [
    {
      "cell_type": "markdown",
      "id": "5d0e3ce4",
      "metadata": {
        "id": "5d0e3ce4"
      },
      "source": [
        "# Convolutional Neural Networks\n",
        "\n",
        "[![Open in Colab](https://colab.research.google.com/assets/colab-badge.svg)](https://colab.research.google.com/github/roy-cruz/CROEM-ML2025/blob/master/croem-ml2025/content/04_ConvNNs.ipynb)"
      ]
    },
    {
      "cell_type": "markdown",
      "source": [
        "### What is a convolution?\n",
        "\n",
        "\n"
      ],
      "metadata": {
        "id": "t25BMvC2fpGx"
      },
      "id": "t25BMvC2fpGx"
    },
    {
      "cell_type": "markdown",
      "source": [
        "A **convolution** is a mathematical operation that combines two functions 𝑓 and ℎ, producing a third function 𝑔, often written as:"
      ],
      "metadata": {
        "id": "U8KvNuwYhdLd"
      },
      "id": "U8KvNuwYhdLd"
    },
    {
      "cell_type": "markdown",
      "source": [
        "$$(f * h)(t) = \\int_{-\\infty}^{\\infty} f(\\tau) \\cdot h(t - \\tau) \\, d\\tau'$$\n"
      ],
      "metadata": {
        "id": "Iz-F_PgmiI5c"
      },
      "id": "Iz-F_PgmiI5c"
    },
    {
      "cell_type": "markdown",
      "source": [
        "But in discrete cases (like digital 2D images), we use a summation instead of an integral:"
      ],
      "metadata": {
        "id": "LQrBERmTj1Y3"
      },
      "id": "LQrBERmTj1Y3"
    },
    {
      "cell_type": "markdown",
      "source": [
        "$$(f * h)[i,j] = \\sum_{m}\\sum_{n} f[m,n] \\cdot h(i - m,j-n)$$"
      ],
      "metadata": {
        "id": "0k6XvSA8khh_"
      },
      "id": "0k6XvSA8khh_"
    },
    {
      "cell_type": "markdown",
      "source": [
        "#### Simple Example: **1D dircrete Convolution**"
      ],
      "metadata": {
        "id": "JF_DhcSzl45a"
      },
      "id": "JF_DhcSzl45a"
    },
    {
      "cell_type": "markdown",
      "source": [
        "Let’s say you have a signal 𝑓 and a filter ℎ:\n",
        "\n",
        "$$ f = [3,2,1,0]$$\n",
        "$$h=[1,0,-1]$$\n",
        "\n",
        "Now applay convolution:\n",
        "\n",
        "1.   Flip the filter\n",
        "$$h_{flipped}=[-1,0,1]$$\n",
        "\n",
        "2.   Slide the filter across the input and multiply-and-sum at each step:\n",
        "\n",
        "$$[3,2,1] \\cdot [-1,0,1] = 3*(-1)+2*0 + 1*1 = -2$$\n",
        "\n",
        "$$[2,1,0] \\cdot [-1,0,1] = 2*(-1)+ 1*0 + 0*1 = -2$$\n",
        "\n",
        "Resulting convolved signal:\n",
        "\n",
        "$$f*h= [-2,-2]$$\n"
      ],
      "metadata": {
        "id": "9bpUGpE2mXAB"
      },
      "id": "9bpUGpE2mXAB"
    },
    {
      "cell_type": "code",
      "source": [],
      "metadata": {
        "id": "gffOMKOLkght"
      },
      "id": "gffOMKOLkght",
      "execution_count": null,
      "outputs": []
    },
    {
      "cell_type": "code",
      "source": [],
      "metadata": {
        "id": "aVwC8Y9GiJgO",
        "outputId": "673c9d3d-a241-4bc8-9b63-1108aa85a3ad",
        "colab": {
          "base_uri": "https://localhost:8080/"
        }
      },
      "id": "aVwC8Y9GiJgO",
      "execution_count": 1,
      "outputs": [
        {
          "output_type": "display_data",
          "data": {
            "text/plain": [
              "<IPython.core.display.Math object>"
            ],
            "text/latex": "$\\displaystyle (f * h)(t) = \\int_{-\\infty}^{\\infty} f(\\tau) \\cdot h(t - \\tau) \\, d\\tau$"
          },
          "metadata": {}
        }
      ]
    }
  ],
  "metadata": {
    "language_info": {
      "name": "python"
    },
    "colab": {
      "provenance": []
    },
    "kernelspec": {
      "name": "python3",
      "display_name": "Python 3"
    }
  },
  "nbformat": 4,
  "nbformat_minor": 5
}