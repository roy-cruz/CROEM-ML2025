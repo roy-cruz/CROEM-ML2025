{
 "cells": [
  {
   "cell_type": "markdown",
   "id": "5d0e3ce4",
   "metadata": {},
   "source": [
    "# Convolutional Neural Networks\n",
    "\n",
    "[![Open in Colab](https://colab.research.google.com/assets/colab-badge.svg)](https://colab.research.google.com/github/roy-cruz/CROEM-ML2025/blob/master/croem-ml2025/content/04_ConvNNs.ipynb)"
   ]
  }
 ],
 "metadata": {
  "language_info": {
   "name": "python"
  }
 },
 "nbformat": 4,
 "nbformat_minor": 5
}
