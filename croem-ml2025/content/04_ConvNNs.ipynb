{
  "cells": [
    {
      "cell_type": "markdown",
      "id": "5d0e3ce4",
      "metadata": {
        "id": "5d0e3ce4"
      },
      "source": [
        "# Convolutional Neural Networks\n",
        "\n",
        "[![Open in Colab](https://colab.research.google.com/assets/colab-badge.svg)](https://colab.research.google.com/github/roy-cruz/CROEM-ML2025/blob/master/croem-ml2025/content/04_ConvNNs.ipynb)"
      ]
    },
    {
      "cell_type": "markdown",
      "source": [
        "### What is a **Convolution**?\n",
        "\n",
        "\n"
      ],
      "metadata": {
        "id": "t25BMvC2fpGx"
      },
      "id": "t25BMvC2fpGx"
    },
    {
      "cell_type": "markdown",
      "source": [
        "A **convolution** is a mathematical operation that combines two functions 𝑓 and ℎ, producing a third function 𝑔, often written as:"
      ],
      "metadata": {
        "id": "U8KvNuwYhdLd"
      },
      "id": "U8KvNuwYhdLd"
    },
    {
      "cell_type": "markdown",
      "source": [
        "$$(f * h)(t) = \\int_{-\\infty}^{\\infty} f(\\tau) \\cdot h(t - \\tau) \\, d\\tau'$$\n"
      ],
      "metadata": {
        "id": "Iz-F_PgmiI5c"
      },
      "id": "Iz-F_PgmiI5c"
    },
    {
      "cell_type": "markdown",
      "source": [
        "But in discrete cases (like digital 2D images), we use a summation instead of an integral:"
      ],
      "metadata": {
        "id": "LQrBERmTj1Y3"
      },
      "id": "LQrBERmTj1Y3"
    },
    {
      "cell_type": "markdown",
      "source": [
        "$$(f * h)[i,j] = \\sum_{m}\\sum_{n} f[m,n] \\cdot h(i - m,j-n)$$"
      ],
      "metadata": {
        "id": "0k6XvSA8khh_"
      },
      "id": "0k6XvSA8khh_"
    },
    {
      "cell_type": "markdown",
      "source": [
        "\n",
        "\n",
        "---\n",
        "\n"
      ],
      "metadata": {
        "id": "4pU0WBIjyDxE"
      },
      "id": "4pU0WBIjyDxE"
    },
    {
      "cell_type": "markdown",
      "source": [
        "#### Simple Example: **1D dircrete Convolution**"
      ],
      "metadata": {
        "id": "JF_DhcSzl45a"
      },
      "id": "JF_DhcSzl45a"
    },
    {
      "cell_type": "markdown",
      "source": [
        "Let’s say you have a signal 𝑓 and a filter ℎ:\n",
        "\n",
        "$$ f = [3,2,1,0]$$\n",
        "$$h=[1,0,-1]$$\n",
        "\n",
        "Now applay convolution:\n",
        "\n",
        "1.   Flip the filter\n",
        "$$h_{flipped}=[-1,0,1]$$\n",
        "\n",
        "2.   Slide the filter across the input and multiply-and-sum at each step:\n",
        "\n",
        "$$~~~~~~~~~~~~~~~~~~~~~~~~~~~~~~~[\\fbox{3},2,1,0]$$\n",
        "$$~~~~~~~~~~[-1,0,\\fbox{1}]$$\n",
        "$ 3*1=3$\n",
        "$$~~~~~~~~~~~~~~~~~~~~~~~~~~~~~~~[\\fbox{3},\\fbox{2},1,0]$$\n",
        "$$~~~~~~~~~~~~~~~~~~[-1,\\fbox{0}, \\fbox{1}]$$\n",
        "$ 3*0 + 2*1 =2$\n",
        "\n",
        "$$~~~~~~~~~~~~~~~~~~~~~~~~~~~~~~~[\\fbox{3},\\fbox{2},\\fbox{1},0]$$\n",
        "$$~~~~~~~~~~~~~~~~~~~~~~~~~~[\\fbox{-1},\\fbox{0},\\fbox{1}]$$\n",
        "$ 3*(-1) + 2*0 + 1*1 =-2$\n",
        "\n",
        "$$~~~~~~~~~~~~~~~~~~~~~~~~~~~~~~~[3,\\fbox{2},\\fbox{1},\\fbox{0}]$$\n",
        "$$~~~~~~~~~~~~~~~~~~~~~~~~~~~~~~~~~[\\fbox{-1},\\fbox{0},\\fbox{1}]$$\n",
        "$ 2*(-1) + 1*0 + 0*1 =-2$\n",
        "\n",
        "$$~~~~~~~~~~~~~~~~~~~~~~~~~~~~~~~[3,2,\\fbox{1},\\fbox{0}]$$\n",
        "$$~~~~~~~~~~~~~~~~~~~~~~~~~~~~~~~~~~~~~~~~~[\\fbox{-1},\\fbox{0},1]$$\n",
        "$ 1*(-1) + 0*0  =-1$\n",
        "\n",
        "$$~~~~~~~~~~~~~~~~~~~~~~~~~~~~~~~[3,2,1,\\fbox{0}]$$\n",
        "$$~~~~~~~~~~~~~~~~~~~~~~~~~~~~~~~~~~~~~~~~~~~~~~~~~[\\fbox{-1},0,1]$$\n",
        "$ 0*(-1)  =0$\n",
        "\n",
        "Resulting convolved signal:\n",
        "\n",
        "$$f*h= [3,2,-2,-2,-1,0]$$\n"
      ],
      "metadata": {
        "id": "9bpUGpE2mXAB"
      },
      "id": "9bpUGpE2mXAB"
    },
    {
      "cell_type": "code",
      "source": [
        "import numpy as np\n",
        "\n",
        "a = np.convolve([3,2,1,0],(1,0,-1))\n",
        "\n",
        "print(a)"
      ],
      "metadata": {
        "colab": {
          "base_uri": "https://localhost:8080/"
        },
        "id": "HAdm82MC7Rzt",
        "outputId": "bc999da2-d585-4b7f-a489-9f0e88a88d5e"
      },
      "id": "HAdm82MC7Rzt",
      "execution_count": 2,
      "outputs": [
        {
          "output_type": "stream",
          "name": "stdout",
          "text": [
            "[ 3  2 -2 -2 -1  0]\n"
          ]
        }
      ]
    },
    {
      "cell_type": "markdown",
      "source": [
        "\n",
        "\n",
        "---\n",
        "\n"
      ],
      "metadata": {
        "id": "WzlZwbtZyGQa"
      },
      "id": "WzlZwbtZyGQa"
    },
    {
      "cell_type": "markdown",
      "source": [
        "## CNN"
      ],
      "metadata": {
        "id": "uFsA78W_zL9K"
      },
      "id": "uFsA78W_zL9K"
    },
    {
      "cell_type": "markdown",
      "source": [
        "CNN is a type of Feed-Forward Network which learns to perform tasks like classification. The CNN works through feature (parameters) optimization. With a given input we will perform a Forward-pass (Forward propagation), calculation and storage of intermediate variables, in forward-pass each layer performs its actions according to its type and the relevant inner variables are stored."
      ],
      "metadata": {
        "id": "qHc4xFPgzcYe"
      },
      "id": "qHc4xFPgzcYe"
    },
    {
      "cell_type": "markdown",
      "source": [],
      "metadata": {
        "id": "tl0hUPpK0IDO"
      },
      "id": "tl0hUPpK0IDO"
    },
    {
      "cell_type": "markdown",
      "source": [
        "## Convolution Layer"
      ],
      "metadata": {
        "id": "CDItMbIJyIhN"
      },
      "id": "CDItMbIJyIhN"
    },
    {
      "cell_type": "markdown",
      "source": [
        "This layer performs the convolution operation, the dot product between two matrices as we learned earlier. It slides filters over the input image or previous feature maps to extract patterns like edges, textures, and object parts."
      ],
      "metadata": {
        "id": "-Nwt6Lo3yZ4H"
      },
      "id": "-Nwt6Lo3yZ4H"
    },
    {
      "cell_type": "markdown",
      "source": [
        "For a better understanding of the convolution idea, there is a helpful video of [3Blue1Brown](https://www.youtube.com/watch?v=KuXjwB4LzSA&ab_channel=3Blue1Brown)."
      ],
      "metadata": {
        "id": "zrqQlr3EyqfW"
      },
      "id": "zrqQlr3EyqfW"
    },
    {
      "cell_type": "markdown",
      "source": [],
      "metadata": {
        "id": "_HEfirAD2KIH"
      },
      "id": "_HEfirAD2KIH"
    },
    {
      "cell_type": "code",
      "source": [],
      "metadata": {
        "colab": {
          "base_uri": "https://localhost:8080/"
        },
        "id": "aVwC8Y9GiJgO",
        "outputId": "673c9d3d-a241-4bc8-9b63-1108aa85a3ad"
      },
      "id": "aVwC8Y9GiJgO",
      "execution_count": 1,
      "outputs": [
        {
          "output_type": "display_data",
          "data": {
            "text/plain": [
              "<IPython.core.display.Math object>"
            ],
            "text/latex": "$\\displaystyle (f * h)(t) = \\int_{-\\infty}^{\\infty} f(\\tau) \\cdot h(t - \\tau) \\, d\\tau$"
          },
          "metadata": {}
        }
      ]
    }
  ],
  "metadata": {
    "language_info": {
      "name": "python"
    },
    "colab": {
      "provenance": [],
      "toc_visible": true
    },
    "kernelspec": {
      "name": "python3",
      "display_name": "Python 3"
    }
  },
  "nbformat": 4,
  "nbformat_minor": 5
}