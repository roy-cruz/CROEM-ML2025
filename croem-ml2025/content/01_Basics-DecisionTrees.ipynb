{
 "cells": [
  {
   "cell_type": "markdown",
   "id": "2061331d",
   "metadata": {},
   "source": [
    "# Machine Learning Basics: Decision Trees\n",
    "\n",
    "[![Open in Colab](https://colab.research.google.com/assets/colab-badge.svg)](https://colab.research.google.com/github/roy-cruz/CROEM-ML2025/blob/master/croem-ml2025/content/01_Basics-DecisionTrees.ipynb)"
   ]
  }
 ],
 "metadata": {
  "language_info": {
   "name": "python"
  }
 },
 "nbformat": 4,
 "nbformat_minor": 5
}
