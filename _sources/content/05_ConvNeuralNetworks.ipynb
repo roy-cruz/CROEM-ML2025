{
 "cells": [
  {
   "cell_type": "markdown",
   "id": "9d4cfc02",
   "metadata": {},
   "source": [
    "# Convolutional Neural Networks\n",
    "Intro to conv neural networks. Posible references:\n",
    "- https://victorzhou.com/blog/keras-cnn-tutorial/"
   ]
  }
 ],
 "metadata": {
  "language_info": {
   "name": "python"
  }
 },
 "nbformat": 4,
 "nbformat_minor": 5
}
