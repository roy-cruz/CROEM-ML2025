{
 "cells": [
  {
   "cell_type": "markdown",
   "id": "5d0e3ce4",
   "metadata": {},
   "source": [
    "# Neural Networks\n",
    "Intro to neural networks"
   ]
  }
 ],
 "metadata": {
  "language_info": {
   "name": "python"
  }
 },
 "nbformat": 4,
 "nbformat_minor": 5
}
