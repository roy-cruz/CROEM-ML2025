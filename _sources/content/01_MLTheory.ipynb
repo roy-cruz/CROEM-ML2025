{
 "cells": [
  {
   "cell_type": "markdown",
   "id": "2061331d",
   "metadata": {},
   "source": [
    "# Machine Learning Theory\n",
    "Defining and conceptually introducing ML and its mathematical foundations\n",
    "Based on:\n",
    "- https://hsf-training.github.io/hsf-training-ml-webpage/01-introduction/index.html\n",
    "- https://hsf-training.github.io/hsf-training-ml-webpage/02-mltechnical/index.html"
   ]
  }
 ],
 "metadata": {
  "language_info": {
   "name": "python"
  }
 },
 "nbformat": 4,
 "nbformat_minor": 5
}
